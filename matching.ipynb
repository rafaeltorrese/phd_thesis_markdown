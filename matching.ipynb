{
 "cells": [
  {
   "cell_type": "code",
   "execution_count": 1,
   "id": "b015a01d",
   "metadata": {},
   "outputs": [],
   "source": [
    "import math\n",
    "from geopy.distance import geodesic\n",
    "\n",
    "import numpy as np\n",
    "import pandas as pd"
   ]
  },
  {
   "cell_type": "code",
   "execution_count": 2,
   "id": "99c9ffb4",
   "metadata": {},
   "outputs": [],
   "source": [
    "drivers = pd.read_csv('drivers.csv')\n",
    "passengers = pd.read_csv('passengers.csv')"
   ]
  },
  {
   "cell_type": "code",
   "execution_count": 3,
   "id": "8af6456b",
   "metadata": {},
   "outputs": [
    {
     "name": "stdout",
     "output_type": "stream",
     "text": [
      "<class 'pandas.core.frame.DataFrame'>\n",
      "RangeIndex: 5 entries, 0 to 4\n",
      "Data columns (total 7 columns):\n",
      " #   Column          Non-Null Count  Dtype  \n",
      "---  ------          --------------  -----  \n",
      " 0   driver_id       5 non-null      object \n",
      " 1   origin_lat      5 non-null      float64\n",
      " 2   origin_lon      5 non-null      float64\n",
      " 3   dest_lat        5 non-null      float64\n",
      " 4   dest_lon        5 non-null      float64\n",
      " 5   departure_time  5 non-null      object \n",
      " 6   arrival_time    5 non-null      object \n",
      "dtypes: float64(4), object(3)\n",
      "memory usage: 412.0+ bytes\n"
     ]
    }
   ],
   "source": [
    "drivers.info()"
   ]
  },
  {
   "cell_type": "code",
   "execution_count": 4,
   "id": "db5cb5cb",
   "metadata": {},
   "outputs": [
    {
     "data": {
      "text/html": [
       "<div>\n",
       "<style scoped>\n",
       "    .dataframe tbody tr th:only-of-type {\n",
       "        vertical-align: middle;\n",
       "    }\n",
       "\n",
       "    .dataframe tbody tr th {\n",
       "        vertical-align: top;\n",
       "    }\n",
       "\n",
       "    .dataframe thead th {\n",
       "        text-align: right;\n",
       "    }\n",
       "</style>\n",
       "<table border=\"1\" class=\"dataframe\">\n",
       "  <thead>\n",
       "    <tr style=\"text-align: right;\">\n",
       "      <th></th>\n",
       "      <th>driver_id</th>\n",
       "      <th>origin_lat</th>\n",
       "      <th>origin_lon</th>\n",
       "      <th>dest_lat</th>\n",
       "      <th>dest_lon</th>\n",
       "      <th>departure_time</th>\n",
       "      <th>arrival_time</th>\n",
       "    </tr>\n",
       "  </thead>\n",
       "  <tbody>\n",
       "    <tr>\n",
       "      <th>0</th>\n",
       "      <td>D1</td>\n",
       "      <td>19.4326</td>\n",
       "      <td>-99.1332</td>\n",
       "      <td>19.451</td>\n",
       "      <td>-99.14</td>\n",
       "      <td>08:00</td>\n",
       "      <td>08:30</td>\n",
       "    </tr>\n",
       "    <tr>\n",
       "      <th>1</th>\n",
       "      <td>D2</td>\n",
       "      <td>19.4100</td>\n",
       "      <td>-99.1800</td>\n",
       "      <td>19.420</td>\n",
       "      <td>-99.10</td>\n",
       "      <td>08:15</td>\n",
       "      <td>08:50</td>\n",
       "    </tr>\n",
       "    <tr>\n",
       "      <th>2</th>\n",
       "      <td>D3</td>\n",
       "      <td>19.3500</td>\n",
       "      <td>-99.2000</td>\n",
       "      <td>19.370</td>\n",
       "      <td>-99.12</td>\n",
       "      <td>07:45</td>\n",
       "      <td>08:25</td>\n",
       "    </tr>\n",
       "    <tr>\n",
       "      <th>3</th>\n",
       "      <td>D4</td>\n",
       "      <td>19.4800</td>\n",
       "      <td>-99.1500</td>\n",
       "      <td>19.450</td>\n",
       "      <td>-99.08</td>\n",
       "      <td>09:00</td>\n",
       "      <td>09:35</td>\n",
       "    </tr>\n",
       "    <tr>\n",
       "      <th>4</th>\n",
       "      <td>D5</td>\n",
       "      <td>19.3000</td>\n",
       "      <td>-99.1100</td>\n",
       "      <td>19.360</td>\n",
       "      <td>-99.20</td>\n",
       "      <td>07:30</td>\n",
       "      <td>08:10</td>\n",
       "    </tr>\n",
       "  </tbody>\n",
       "</table>\n",
       "</div>"
      ],
      "text/plain": [
       "  driver_id  origin_lat  origin_lon  dest_lat  dest_lon departure_time  \\\n",
       "0        D1     19.4326    -99.1332    19.451    -99.14          08:00   \n",
       "1        D2     19.4100    -99.1800    19.420    -99.10          08:15   \n",
       "2        D3     19.3500    -99.2000    19.370    -99.12          07:45   \n",
       "3        D4     19.4800    -99.1500    19.450    -99.08          09:00   \n",
       "4        D5     19.3000    -99.1100    19.360    -99.20          07:30   \n",
       "\n",
       "  arrival_time  \n",
       "0        08:30  \n",
       "1        08:50  \n",
       "2        08:25  \n",
       "3        09:35  \n",
       "4        08:10  "
      ]
     },
     "execution_count": 4,
     "metadata": {},
     "output_type": "execute_result"
    }
   ],
   "source": [
    "drivers.head()"
   ]
  }
 ],
 "metadata": {
  "kernelspec": {
   "display_name": "math",
   "language": "python",
   "name": "python3"
  },
  "language_info": {
   "codemirror_mode": {
    "name": "ipython",
    "version": 3
   },
   "file_extension": ".py",
   "mimetype": "text/x-python",
   "name": "python",
   "nbconvert_exporter": "python",
   "pygments_lexer": "ipython3",
   "version": "3.13.0"
  }
 },
 "nbformat": 4,
 "nbformat_minor": 5
}
